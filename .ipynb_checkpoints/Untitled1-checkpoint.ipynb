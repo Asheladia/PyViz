{
 "cells": [
  {
   "cell_type": "raw",
   "metadata": {},
   "source": [
    "import string"
   ]
  },
  {
   "cell_type": "code",
   "execution_count": 1,
   "metadata": {},
   "outputs": [
    {
     "name": "stdin",
     "output_type": "stream",
     "text": [
      "Please enter a new password, between 8 and 15 characters:  kira\n",
      "Password must be between 8 and 15 characters - please re-enter:  Kiravi0508\n",
      "Please verify password:  Kiravi0508\n"
     ]
    },
    {
     "name": "stdout",
     "output_type": "stream",
     "text": [
      "Password is valid\n"
     ]
    }
   ],
   "source": [
    "password1 = input(\"Please enter a new password, between 8 and 15 characters: \")\n",
    "match = True\n",
    "while len(password1) < 8 or len(password1) > 15:\n",
    "  password1 = input (\"Password must be between 8 and 15 characters - please re-enter: \")\n",
    "  while match:\n",
    "    password2 = input (\"Please verify password: \")\n",
    "    if password1 == password2:\n",
    "      print (\"Password is valid\")\n",
    "      break\n",
    "    else:\n",
    "      print (\"Password is invalid\")\n",
    "    \n"
   ]
  },
  {
   "cell_type": "code",
   "execution_count": null,
   "metadata": {},
   "outputs": [],
   "source": []
  }
 ],
 "metadata": {
  "kernelspec": {
   "display_name": "Python 3",
   "language": "python",
   "name": "python3"
  },
  "language_info": {
   "codemirror_mode": {
    "name": "ipython",
    "version": 3
   },
   "file_extension": ".py",
   "mimetype": "text/x-python",
   "name": "python",
   "nbconvert_exporter": "python",
   "pygments_lexer": "ipython3",
   "version": "3.7.6"
  }
 },
 "nbformat": 4,
 "nbformat_minor": 4
}
